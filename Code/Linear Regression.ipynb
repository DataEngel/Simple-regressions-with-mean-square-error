{
 "cells": [
  {
   "cell_type": "code",
   "execution_count": 1,
   "metadata": {},
   "outputs": [],
   "source": [
    "import numpy as np\n",
    "import matplotlib.pyplot as plt "
   ]
  },
  {
   "cell_type": "code",
   "execution_count": 4,
   "metadata": {},
   "outputs": [],
   "source": [
    "# Taking our algorithm to python\n",
    "\n",
    "def estimate_b0_b1(x, y):\n",
    "    n = np.size(x)\n",
    "    # We obtain the averages of X and Y\n",
    "    m_x, m_y = np.mean(x), np.mean(y)\n",
    "\n",
    "    # Calculate sum of XY and my sum of XX\n",
    "    Sumatoria_xy = np.sum((x-m_x)*(y-m_y))\n",
    "    Sumatoria_xx = np.sum(x*(x-m_x))\n",
    "\n",
    "    # regression coefficients\n",
    "    b_1 = Sumatoria_xy / Sumatoria_xx\n",
    "    b_0 = m_y - b_1*m_x\n",
    "\n",
    "    return(b_0, b_1)"
   ]
  },
  {
   "cell_type": "code",
   "execution_count": 10,
   "metadata": {},
   "outputs": [],
   "source": [
    "# Graphing function\n",
    "def plot_regression(x, y, b):\n",
    "    plt.scatter(x, y, color = \"g\", marker = \"o\", s=30)\n",
    "\n",
    "    y_pred = b[0] + b[1]*x\n",
    "    plt.plot(x, y_pred, color = \"b\")\n",
    "\n",
    "    # labelled\n",
    "    plt.xlabel('x-Independent')\n",
    "    plt.ylabel('y-Dependent')\n",
    "\n",
    "    plt.show()"
   ]
  },
  {
   "cell_type": "code",
   "execution_count": 11,
   "metadata": {},
   "outputs": [
    {
     "name": "stdout",
     "output_type": "stream",
     "text": [
      "Los valores b0 = 1.5, b1 =0.9\n"
     ]
    },
    {
     "data": {
      "image/png": "[encoded data removed]",
      "text/plain": [
       "<Figure size 432x288 with 1 Axes>"
      ]
     },
     "metadata": {
      "needs_background": "light"
     },
     "output_type": "display_data"
    }
   ],
   "source": [
    "def main():\n",
    "    # DATASET\n",
    "    x = np.array([1,2,3,4,5])\n",
    "    y = np.array([2,3,5,6,5])\n",
    "\n",
    "    # We get b1 and b2\n",
    "    b = estimate_b0_b1(x, y)\n",
    "    print(\"Los valores b0 = {}, b1 ={}\".format(b[0], b[1]))\n",
    "\n",
    "    # We plot our regression line\n",
    "    plot_regression(x, y, b)\n",
    "\n",
    "if __name__== \"__main__\":\n",
    "    main()"
   ]
  }
 ],
 "metadata": {
  "kernelspec": {
   "display_name": "Python 3",
   "language": "python",
   "name": "python3"
  },
  "language_info": {
   "codemirror_mode": {
    "name": "ipython",
    "version": 3
   },
   "file_extension": ".py",
   "mimetype": "text/x-python",
   "name": "python",
   "nbconvert_exporter": "python",
   "pygments_lexer": "ipython3",
   "version": "3.8.3"
  }
 },
 "nbformat": 4,
 "nbformat_minor": 4
}
